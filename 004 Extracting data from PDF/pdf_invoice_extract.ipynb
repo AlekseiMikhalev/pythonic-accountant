{
 "cells": [
  {
   "cell_type": "code",
   "execution_count": 1,
   "metadata": {},
   "outputs": [],
   "source": [
    "import requests\n",
    "import pdfplumber"
   ]
  },
  {
   "cell_type": "code",
   "execution_count": 2,
   "metadata": {},
   "outputs": [],
   "source": [
    "def download_file(url):\n",
    "    local_filename = url.split('/')[-1]\n",
    "    \n",
    "    with requests.get(url) as r:\n",
    "        with open(local_filename, 'wb') as f:\n",
    "            f.write(r.content)\n",
    "        \n",
    "    return local_filename"
   ]
  },
  {
   "cell_type": "code",
   "execution_count": 3,
   "metadata": {},
   "outputs": [],
   "source": [
    "invoice_url = 'http://www.k-billing.com/example_invoices/professionalblue_example.pdf'"
   ]
  },
  {
   "cell_type": "code",
   "execution_count": 4,
   "metadata": {},
   "outputs": [],
   "source": [
    "invoice = download_file(invoice_url)"
   ]
  },
  {
   "cell_type": "code",
   "execution_count": 5,
   "metadata": {},
   "outputs": [],
   "source": [
    "with pdfplumber.open(invoice) as pdf:\n",
    "    page = pdf.pages[0]\n",
    "    text = page.extract_text()"
   ]
  },
  {
   "cell_type": "code",
   "execution_count": 7,
   "metadata": {},
   "outputs": [
    {
     "name": "stdout",
     "output_type": "stream",
     "text": [
      "INVOICE\n",
      "Invoice No. I1083\n",
      "Account # C1006\n",
      "Date 08-14-2008\n",
      "Due By 08-31-2008\n",
      "Demo Company\n",
      "Phone : 111-222-3333 Terms None\n",
      "1234 Main Street E-Mail : 333-444-4444 PO No. PO1234\n",
      "Ashland, KY 41102 Web : http://www.ksoftware.net Sales Rep SalesPerson1\n",
      "Bill To Ship To\n",
      "Test Customer Test Customer\n",
      "1234 Main Street 1234 Main Street\n",
      "Ashland, KY 41101 Ashland,  41101\n",
      "CCooddee DDeessccrriippttiioonn QTY Price Line Total\n",
      "SKU1222 Test Import Name - Description Goes Here 1 $10.00 $10.00\n",
      "Labor - Example labor item. Quantity is number of hours spent,  1.5 $100.00 $150.00\n",
      "price is hourly rate. Quantity accepts decimal values.\n",
      "Notes\n",
      "An invoice note can go here. Multi-line and even multi-page notes are supported.\n",
      "PPaayymmeenntt  DDeettaaiillss\n",
      "Subtotal $160.00\n",
      "Shipping$10.00 Tax $0.78\n",
      "UPS Ground Total $170.78\n",
      "Payments (-) $0.00\n",
      "Balance Due $170.78\n",
      "An invoice footer can go here\n"
     ]
    }
   ],
   "source": [
    "print(text)"
   ]
  },
  {
   "cell_type": "code",
   "execution_count": 8,
   "metadata": {},
   "outputs": [],
   "source": [
    "for row in text.split('\\n'):\n",
    "    if row.startswith('Balance Due'):\n",
    "        balance = row.split()[-1]"
   ]
  },
  {
   "cell_type": "code",
   "execution_count": 9,
   "metadata": {},
   "outputs": [
    {
     "data": {
      "text/plain": [
       "'$170.78'"
      ]
     },
     "execution_count": 9,
     "metadata": {},
     "output_type": "execute_result"
    }
   ],
   "source": [
    "balance"
   ]
  },
  {
   "cell_type": "code",
   "execution_count": null,
   "metadata": {},
   "outputs": [],
   "source": []
  }
 ],
 "metadata": {
  "kernelspec": {
   "display_name": "Python 3",
   "language": "python",
   "name": "python3"
  },
  "language_info": {
   "codemirror_mode": {
    "name": "ipython",
    "version": 3
   },
   "file_extension": ".py",
   "mimetype": "text/x-python",
   "name": "python",
   "nbconvert_exporter": "python",
   "pygments_lexer": "ipython3",
   "version": "3.7.5"
  }
 },
 "nbformat": 4,
 "nbformat_minor": 4
}
